{
 "cells": [
  {
   "cell_type": "markdown",
   "metadata": {},
   "source": [
    "1\\. Write a function that converts numbers among the bin, dec, and hex representations (bin<->dec<->hex)"
   ]
  },
  {
   "cell_type": "code",
   "execution_count": 1,
   "metadata": {},
   "outputs": [
    {
     "name": "stdout",
     "output_type": "stream",
     "text": [
      "Binary to decimal: 0b11001 -> 25\n",
      "Decimal to binary: 25 -> 0b11001\n",
      "Decimal to hexadecimal 25 -> 0x19\n",
      "Hexadecimal to decimal 0x19 -> 25\n"
     ]
    }
   ],
   "source": [
    "def func(num):\n",
    "    num_bin=bin(num)\n",
    "    num_hex=hex(num)\n",
    "    num_bin_dec=int(num_bin,2)\n",
    "    num_hex_dec=int(num_hex,16)\n",
    "    print(\"Binary to decimal:\",num_bin,\"->\",num_bin_dec)\n",
    "    print(\"Decimal to binary:\",num,\"->\",num_bin)\n",
    "    print(\"Decimal to hexadecimal\",num,\"->\",num_hex)\n",
    "    print(\"Hexadecimal to decimal\",num_hex,\"->\",num_hex_dec)\n",
    "func(25)"
   ]
  },
  {
   "cell_type": "markdown",
   "metadata": {},
   "source": [
    "2\\. Write a function that converts a 32 bit word into a single precision floating point (i.e. interprets the various bits as sign, mantissa and exponent) and check its validity."
   ]
  },
  {
   "cell_type": "code",
   "execution_count": 2,
   "metadata": {},
   "outputs": [
    {
     "name": "stdout",
     "output_type": "stream",
     "text": [
      "-5.5\n"
     ]
    }
   ],
   "source": [
    "def func2(a):\n",
    "    xfl=1\n",
    "    exp=0\n",
    "    man=0\n",
    "    if a[0]=='0':#To find sign\n",
    "        xfl=1\n",
    "    elif a[0]=='1':\n",
    "        xfl=-1\n",
    "    else:\n",
    "        print(\"It is not valid.\")\n",
    "    \n",
    "    for i in range(9):#Calculating exponent\n",
    "        if i==0:\n",
    "            exp+=0\n",
    "        elif a[i]=='1':\n",
    "            exp+=2**(8-i)\n",
    "    \n",
    "    for j in range(23):#Calculate after point\n",
    "        if a[j+9]=='1':\n",
    "            man+=2**(-j-1)\n",
    "    man+=1\n",
    "    xfl=xfl*man*2**(exp-127)\n",
    "    print(xfl)\n",
    "func2('11000000101100000000000000000000')"
   ]
  },
  {
   "cell_type": "markdown",
   "metadata": {},
   "source": [
    "3\\. Write a program to determine the underflow and overflow limits (within a factor of 2) for python on your computer. \n",
    "\n",
    "**Tip**: define two variables initialized to 1 and halve/double them for a sufficient amount of times to exceed the under/over-flow limits  "
   ]
  },
  {
   "cell_type": "code",
   "execution_count": 3,
   "metadata": {},
   "outputs": [
    {
     "name": "stdout",
     "output_type": "stream",
     "text": [
      "For  4 underflow= 0.0625 overflow= 16\n"
     ]
    }
   ],
   "source": [
    "def func3(x):\n",
    "    u=1\n",
    "    o=1\n",
    "    for i in range(x):\n",
    "        u/=2\n",
    "        o*=2\n",
    "    print(\"For \",x,\"underflow=\",u,\"overflow=\",o)\n",
    "func3(4)"
   ]
  },
  {
   "cell_type": "markdown",
   "metadata": {},
   "source": [
    "4\\. Write a program to determine the machine precision\n",
    "\n",
    "**Tip**: define a new variable by adding an increasingly smaller value (in the same way as the previous problem) and check when the addition starts to have no effect on the number"
   ]
  },
  {
   "cell_type": "code",
   "execution_count": 4,
   "metadata": {},
   "outputs": [
    {
     "name": "stdout",
     "output_type": "stream",
     "text": [
      "1.5\n",
      "1.25\n",
      "1.125\n",
      "1.0625\n",
      "1.03125\n",
      "1.015625\n",
      "1.0078125\n",
      "1.00390625\n",
      "1.001953125\n",
      "1.0009765625\n",
      "1.00048828125\n",
      "1.000244140625\n",
      "1.0001220703125\n",
      "1.00006103515625\n",
      "1.000030517578125\n",
      "1.0000152587890625\n",
      "1.0000076293945312\n",
      "1.0000038146972656\n",
      "1.0000019073486328\n",
      "1.0000009536743164\n",
      "1.0000004768371582\n",
      "1.000000238418579\n",
      "1.0000001192092896\n",
      "1.0000000596046448\n",
      "1.0000000298023224\n",
      "1.0000000149011612\n",
      "1.0000000074505806\n",
      "1.0000000037252903\n",
      "1.0000000018626451\n",
      "1.0000000009313226\n",
      "1.0000000004656613\n",
      "1.0000000002328306\n",
      "1.0000000001164153\n",
      "1.0000000000582077\n",
      "1.0000000000291038\n",
      "1.000000000014552\n",
      "1.000000000007276\n",
      "1.000000000003638\n",
      "1.000000000001819\n",
      "1.0000000000009095\n",
      "1.0000000000004547\n",
      "1.0000000000002274\n",
      "1.0000000000001137\n",
      "1.0000000000000568\n",
      "1.0000000000000284\n",
      "1.0000000000000142\n",
      "1.000000000000007\n",
      "1.0000000000000036\n",
      "1.0000000000000018\n",
      "1.0000000000000009\n",
      "1.0000000000000004\n",
      "1.0000000000000002\n",
      "1.0\n",
      "1.0\n",
      "After 54, it does not effect on the number.\n"
     ]
    }
   ],
   "source": [
    "def func4(y):\n",
    "    n=1.0\n",
    "    \n",
    "    for i in range(y):\n",
    "        n/=2\n",
    "        inc=1+n\n",
    "        print(inc)\n",
    "func4(54)\n",
    "print(\"After 54, it does not effect on the number.\")"
   ]
  },
  {
   "cell_type": "markdown",
   "metadata": {},
   "source": [
    "5\\. Write a function that takes in input three parameters $a$, $b$ and $c$ and prints out the two solutions to the quadratic equation $ax^2+bx+c=0$ using the standard formula:\n",
    "$$\n",
    "x=\\frac{-b\\pm\\sqrt{b^2-4ac}}{2a}\n",
    "$$\n",
    "\n",
    "(a) use the program to compute the solution for $a=0.001$, $b=1000$ and $c=0.001$\n",
    "\n",
    "(b) re-express the standard solution formula by multiplying the numerator and the denominator by $-b\\mp\\sqrt{b^2-4ac}$ and again find the solution for $a=0.001$, $b=1000$ and $c=0.001$. How does it compare with what has been previously obtained, and why?\n",
    "\n",
    "(c) write a function that computes the roots of a quadratic equation accurately in all cases"
   ]
  },
  {
   "cell_type": "code",
   "execution_count": 5,
   "metadata": {},
   "outputs": [
    {
     "name": "stdout",
     "output_type": "stream",
     "text": [
      "(a)\n",
      "-9.999894245993346e-07 -999999.999999\n",
      "(b)\n",
      "-9.999894245993346e-07 -999999.999999\n",
      "After re-express the formula,result must be changed.It looks there is no difference, but the changing on x1 and x2 are really small.\n",
      "(c)\n",
      "-9.999894245993346e-07 -999999.9999989999\n",
      "To get more accurate result, multiplied the numerator and denominator many times with  −𝑏∓√𝑏**2−4𝑎𝑐 \n"
     ]
    }
   ],
   "source": [
    "import math\n",
    "def func5(a,b,c):\n",
    "    x1=(-b+math.sqrt((b**2)-4*a*c))/(2*a)\n",
    "    x2=(-b-math.sqrt((b**2)-4*a*c))/(2*a)\n",
    "    print(x1,x2)\n",
    "    \n",
    "def re_func5(a,b,c):\n",
    "    q=-b+math.sqrt(b**2-4*a*c)\n",
    "    w=-b-math.sqrt(b**2-4*a*c)\n",
    "    x1_re=q**2/(q*2*a)\n",
    "    x2_re=w**2/(w*2*a)\n",
    "    print(x1_re,x2_re)\n",
    "def c(a,b,c):\n",
    "    q=-b+math.sqrt(b**2-4*a*c)\n",
    "    w=-b-math.sqrt(b**2-4*a*c)\n",
    "    x1c=q**15/(q**14*2*a)\n",
    "    x2c=w**15/(w**14*2*a)\n",
    "    print(x1c,x2c)\n",
    "print(\"(a)\")#a\n",
    "func5(0.001,1000,0.001)\n",
    "print(\"(b)\")#b\n",
    "re_func5(0.001,1000,0.001)\n",
    "print(\"After re-express the formula,result must be changed.It looks there is no difference, but the changing on x1 and x2 are really small.\")\n",
    "print(\"(c)\")#c\n",
    "c(0.001,1000,0.001)\n",
    "print(\"To get more accurate result, multiplied the numerator and denominator many times with  −𝑏∓√𝑏**2−4𝑎𝑐 \")"
   ]
  },
  {
   "cell_type": "markdown",
   "metadata": {},
   "source": [
    "6\\. Write a program that implements the function $f(x)=x(x−1)$\n",
    "\n",
    "(a) Calculate the derivative of the function at the point $x = 1$ using the derivative definition:\n",
    "\n",
    "$$\n",
    "\\frac{{\\rm d}f}{{\\rm d}x} = \\lim_{\\delta\\to0} \\frac{f(x+\\delta)-f(x)}{\\delta}\n",
    "$$\n",
    "\n",
    "with $\\delta = 10^{−2}$. Calculate the true value of the same derivative analytically and compare it with the answer your program gives. The two will not agree perfectly. Why?\n",
    "\n",
    "(b) Repeat the calculation for $\\delta = 10^{−4}, 10^{−6}, 10^{−8}, 10^{−10}, 10^{−12}$ and $10^{−14}$. How does the accuracy scales with $\\delta$?"
   ]
  },
  {
   "cell_type": "code",
   "execution_count": 6,
   "metadata": {},
   "outputs": [
    {
     "name": "stdout",
     "output_type": "stream",
     "text": [
      "(a)\n",
      "1.010000000000001\n",
      "1.0000000000000009\n",
      "Two ways have different calculation methods, so the results are slightly different from each other.\n",
      "(b)\n",
      "1.0000999999998899\n",
      "1.0000009999177333\n",
      "1.0000000039225287\n",
      "1.000000082840371\n",
      "1.0000889005833413\n",
      "0.9992007221626509\n",
      "When 𝛿 gets smaller, the result also change a little bit. So the accuracy scales might be increase with 𝛿.\n"
     ]
    }
   ],
   "source": [
    "from scipy.misc import derivative\n",
    "def f(x):\n",
    "    f=x*(x-1)\n",
    "    return f\n",
    "def func6(x,l):\n",
    "    print((f(x+l)-f(x))/l)\n",
    "print(\"(a)\")#a\n",
    "func6(1,10**(-2))\n",
    "print(derivative(f,1.0,dx=10**-2))\n",
    "print(\"Two ways have different calculation methods, so the results are slightly different from each other.\")\n",
    "print(\"(b)\")#b\n",
    "func6(1,10**(-4))\n",
    "func6(1,10**(-6))\n",
    "func6(1,10**(-8))\n",
    "func6(1,10**(-10))\n",
    "func6(1,10**(-12))\n",
    "func6(1,10**(-14))\n",
    "print(\"When 𝛿 gets smaller, the result also change a little bit. So the accuracy scales might be increase with 𝛿.\")"
   ]
  },
  {
   "cell_type": "markdown",
   "metadata": {},
   "source": [
    "7\\. Consider the integral of the semicircle of radius 1:\n",
    "$$\n",
    "I=\\int_{-1}^{1} \\sqrt(1-x^2) {\\rm d}x\n",
    "$$\n",
    "which is known to be $I=\\frac{\\pi}{2}=1.57079632679...$.\n",
    "\n",
    "Alternatively we can use the Riemann definition of the integral:\n",
    "$$\n",
    "I=\\lim_{N\\to\\infty} \\sum_{k=1}^{N} h y_k \n",
    "$$\n",
    "\n",
    "with $h=2/N$ the width of each of the $N$ slices the domain is divided into and where\n",
    "$y_k$ is the value of the function at the $k-$th slice.\n",
    "\n",
    "(a) Write a program to compute the integral with $N=100$. How does the result compare to the true value?\n",
    "\n",
    "(b) How much can $N$ be increased if the computation needs to be run in less than a second? What is the gain in running it for 1 minute? \n"
   ]
  },
  {
   "cell_type": "code",
   "execution_count": 7,
   "metadata": {},
   "outputs": [
    {
     "name": "stdout",
     "output_type": "stream",
     "text": [
      "(a)\n",
      "Integral of f function with Riemann definition:\n",
      " 1.5712827762297954\n",
      "Integral of f function by using scipy method:\n",
      " (1.5707963267948983, 1.0002354500215915e-09)\n",
      "If we compare both values, it differs 2 digits after the dot.\n",
      "(b)\n",
      "239 µs ± 13.8 µs per loop (mean ± std. dev. of 7 runs, 1000 loops each)\n",
      "971 ms ± 58.7 ms per loop (mean ± std. dev. of 7 runs, 1 loop each)\n",
      "We can increase N to 420000, so computation timing approach to a second.\n",
      "The gain in running it for 1 min. is that the result will be more accurate.\n"
     ]
    }
   ],
   "source": [
    "import scipy.integrate as integrate\n",
    "import math\n",
    "def riemann(f,a,b,N):\n",
    "    h=(b-a)/N\n",
    "    sum=0.0\n",
    "    \n",
    "    for i in range(N):\n",
    "        sum+=f((2*a+(2*i+1)*h)/2)#midsum\n",
    "    return sum*h#integral\n",
    "f=lambda x:math.sqrt(1-x**2)\n",
    "print(\"(a)\\nIntegral of f function with Riemann definition:\\n\",riemann(f,-1,1,100))\n",
    "print(\"Integral of f function by using scipy method:\\n\",integrate.quad(f,-1,1))\n",
    "print(\"If we compare both values, it differs 2 digits after the dot.\\n(b)\")\n",
    "%timeit riemann(f,-1,1,100)\n",
    "%timeit riemann(f,-1,1,420000)\n",
    "print(\"We can increase N to 420000, so computation timing approach to a second.\")\n",
    "print(\"The gain in running it for 1 min. is that the result will be more accurate.\")"
   ]
  },
  {
   "cell_type": "code",
   "execution_count": null,
   "metadata": {},
   "outputs": [],
   "source": []
  }
 ],
 "metadata": {
  "kernelspec": {
   "display_name": "Python 3 (ipykernel)",
   "language": "python",
   "name": "python3"
  },
  "language_info": {
   "codemirror_mode": {
    "name": "ipython",
    "version": 3
   },
   "file_extension": ".py",
   "mimetype": "text/x-python",
   "name": "python",
   "nbconvert_exporter": "python",
   "pygments_lexer": "ipython3",
   "version": "3.8.10"
  }
 },
 "nbformat": 4,
 "nbformat_minor": 2
}

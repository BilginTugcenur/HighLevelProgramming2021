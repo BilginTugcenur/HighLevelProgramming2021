{
 "cells": [
  {
   "cell_type": "code",
   "execution_count": 48,
   "metadata": {},
   "outputs": [],
   "source": [
    "import pandas as pd\n",
    "import numpy as np\n",
    "import json"
   ]
  },
  {
   "cell_type": "markdown",
   "metadata": {},
   "source": [
    "1\\. Perform the following operations on plain `txt` files:\n",
    "\n",
    "+ create a list of integrer numbers and then save it to a text file named \"data_int.txt\". Run the `cat` command to print the content of the file.\n",
    "+ create a matrix of 5x5 floats and then save it to a text file named \"data_float.txt\". Use the `cat` command to print the content of the file.\n",
    "+ load the txt file of the previous point and convert it to a csv file by hand."
   ]
  },
  {
   "cell_type": "code",
   "execution_count": 41,
   "metadata": {},
   "outputs": [
    {
     "name": "stdout",
     "output_type": "stream",
     "text": [
      "[1 2 3 4 5 6 7 8 9]\n",
      "\n",
      "[[0.  0.1 0.2 0.3 0.4]\n",
      " [0.5 0.6 0.7 0.8 0.9]\n",
      " [1.  1.1 1.2 1.3 1.4]\n",
      " [1.5 1.6 1.7 1.8 1.9]\n",
      " [2.  2.1 2.2 2.3 2.4]]"
     ]
    }
   ],
   "source": [
    "l=str(np.arange(1,10,1))\n",
    "f=open(\"data_int.txt\",\"w\")\n",
    "for i in l:\n",
    "    f.write(i)\n",
    "!cat data_int.txt\n",
    "print(\"\\n\")\n",
    "m=str((np.arange(25).reshape(5,5))/10)\n",
    "f1=open(\"data_float.txt\",\"w\")\n",
    "for j in m:\n",
    "    f1.write(j)\n",
    "!cat data_float.txt\n",
    "csv_float=pd.read_csv(r'data_float.txt')\n",
    "csv_float.to_csv(r'data_float.csv',index=None)"
   ]
  },
  {
   "cell_type": "markdown",
   "metadata": {},
   "source": [
    "2\\. Load the file *user_data.json*, which can be found at:\n",
    "\n",
    "- https://www.dropbox.com/s/sz5klcdpckc39hd/user_data.json\n",
    "\n",
    "and filter the data by the \"CreditCardType\" when it equals to \"American Express\". Than save the data to a new CSV file."
   ]
  },
  {
   "cell_type": "code",
   "execution_count": 68,
   "metadata": {},
   "outputs": [],
   "source": [
    "#!wget https://www.dropbox.com/s/sz5klcdpckc39hd/user_data.json\n",
    "data=json.load(open('user_data.json'))\n",
    "filt=[x for x in data if x['CreditCardType']=='American Express']\n",
    "output=json.dumps(filt)\n",
    "f=open(\"user_data.csv\",\"w\")\n",
    "for i in output:\n",
    "    f.write(i)"
   ]
  },
  {
   "cell_type": "markdown",
   "metadata": {},
   "source": [
    "3\\. Load the file from this url:\n",
    "\n",
    "- https://www.dropbox.com/s/kgshemfgk22iy79/mushrooms_categorized.csv\n",
    "\n",
    "with Pandas. \n",
    "\n",
    "+ explore and print the DataFrame\n",
    "+ calculate, using `groupby()`, the average value of each feature, separately for each class\n",
    "+ save the file in a JSON format."
   ]
  },
  {
   "cell_type": "code",
   "execution_count": 92,
   "metadata": {},
   "outputs": [
    {
     "name": "stdout",
     "output_type": "stream",
     "text": [
      "class                       0.482029\n",
      "cap-shape                   3.348104\n",
      "cap-surface                 1.827671\n",
      "cap-color                   4.504677\n",
      "bruises                     0.415559\n",
      "odor                        4.144756\n",
      "gill-attachment             0.974151\n",
      "gill-spacing                0.161497\n",
      "gill-size                   0.309207\n",
      "gill-color                  4.810684\n",
      "stalk-shape                 0.567208\n",
      "stalk-root                  1.109798\n",
      "stalk-surface-above-ring    1.575086\n",
      "stalk-surface-below-ring    1.603644\n",
      "stalk-color-above-ring      5.816347\n",
      "stalk-color-below-ring      5.794682\n",
      "veil-type                   0.000000\n",
      "veil-color                  1.965534\n",
      "ring-number                 1.069424\n",
      "ring-type                   2.291974\n",
      "spore-print-color           3.596750\n",
      "population                  3.644018\n",
      "habitat                     1.508616\n",
      "dtype: float64\n"
     ]
    }
   ],
   "source": [
    "#!wget https://www.dropbox.com/s/kgshemfgk22iy79/mushrooms_categorized.csv\n",
    "file_name= \"mushrooms_categorized.csv\"\n",
    "data = pd.read_csv(file_name)\n",
    "df=str(pd.DataFrame(data).mean())\n",
    "output=json.dumps(df)\n",
    "print(df)\n",
    "f=open(\"mushrooms_categorized_mean.json\",\"w\")\n",
    "for i in output:\n",
    "    f.write(i)"
   ]
  },
  {
   "cell_type": "markdown",
   "metadata": {},
   "source": [
    "4\\. Get the binary file named *credit_card.dat* from this address:\n",
    "\n",
    "- https://www.dropbox.com/s/8m0syw2tkul3dap/credit_card.dat\n",
    "\n",
    "and convert the data into the real credit card number, knowing that:\n",
    "- each line corresponds to a credit card number, which consists of 16 characters (which are numbers in the 0-9 range) divided in 4 blocks, with a whitespace between each block\n",
    "- each character is written using a 6 bit binary representation (including the whitespace)\n",
    "- the final 4 bits of each line are a padding used to determine the end of the line, and can be ignored\n",
    "\n",
    "*Hint*: convert the binary numbers to the decimal representation first, and then use the `chr()` function to convert the latter to a char"
   ]
  },
  {
   "cell_type": "code",
   "execution_count": 183,
   "metadata": {},
   "outputs": [
    {
     "data": {
      "text/plain": [
       "16672065053288474774946902561698265176395777766883779151297605523029383480475694382133792907958166926770789701579031093597150697470952640977945518360386627425579370194579505963693877586390089631179802060197530593022786785625729128277962888813612010934894289062459004213997838566333131328371474328315709712715362055819525064800913295033790100991272234278198354937375133251577555702549827570686007521291014592436881398239431896521269514445675433809933128399618304043892726798529067609584938712390250378910723562344023414955016934070455946373216236230802165954291914211065129634325922107745255878716751280487393627389659564816387203889585660739505397554849181262949638655550400709777146093457302531988372516101098072331158773312525471673127401361803314611625419187966194547932717807343346082998593921630323913881310724166527435298145586898381170663241113295965240619476854584410490424042601138833138415768518270790870613010409160610793485074970908247719899839775173480284256958949621557566665165109968539592700094843755417547595671086323302686454081739583527956737409531697075256296568868946704667404351011730383237211719369850630669967057537617505668624686461981693996381654568336974182431064054324350447111376302380611053521445849123362734125213521842570668203223542866295859730500225365988433940257600556390560698503470435991307151831345195960520755585298702732603969965237169235713506112759439921719839713659459650410344513090794882873349824877798376101215014880112948376861863926794366812205547480172616831477051243436907378910251338637403105192703819826005585134614985921053685785740283929782599893526114671856847032301947233778196885599825127365608218992272113382464866286456820011720241068825522277743155052387353164589583159846656482432378740134650156230010240041694934186"
      ]
     },
     "execution_count": 183,
     "metadata": {},
     "output_type": "execute_result"
    }
   ],
   "source": [
    "#!wget https://www.dropbox.com/s/8m0syw2tkul3dap/credit_card.dat\n",
    "data=[]\n",
    "with open('credit_card.dat','r') as a:\n",
    "    for line in a:\n",
    "        data.extend(map(int,line.split()))\n",
    "res=int(\"\".join(str(x) for x in data),2)\n",
    "res"
   ]
  },
  {
   "cell_type": "markdown",
   "metadata": {},
   "source": [
    "5\\. **Optional**: load the remote file:\n",
    "\n",
    "- https://www.dropbox.com/s/aamg1apjhclecka/regression_generated.csv\n",
    "\n",
    "with Pandas and create a scatter plot with all possible combinations of the following features:\n",
    "    \n",
    "  + features_1\n",
    "  + features_2\n",
    "  + features_3"
   ]
  },
  {
   "cell_type": "code",
   "execution_count": 117,
   "metadata": {},
   "outputs": [
    {
     "name": "stdout",
     "output_type": "stream",
     "text": [
      "--2021-12-02 13:39:16--  https://www.dropbox.com/s/aamg1apjhclecka/regression_generated.csv\n",
      "Resolving www.dropbox.com (www.dropbox.com)... 162.125.67.18, 2620:100:6027:18::a27d:4812\n",
      "Connecting to www.dropbox.com (www.dropbox.com)|162.125.67.18|:443... connected.\n",
      "HTTP request sent, awaiting response... 301 Moved Permanently\n",
      "Location: /s/raw/aamg1apjhclecka/regression_generated.csv [following]\n",
      "--2021-12-02 13:39:23--  https://www.dropbox.com/s/raw/aamg1apjhclecka/regression_generated.csv\n",
      "Reusing existing connection to www.dropbox.com:443.\n",
      "HTTP request sent, awaiting response... 302 Found\n",
      "Location: https://ucd1b146e210f65186cfe1c24d09.dl.dropboxusercontent.com/cd/0/inline/BbHLDiyIPwDWB1-7I1jzPvmbX8fKpVVKrDr3gr1p-V_mvlltSTYguq3OwG4sAL7t0Cr-7Mq6ey3U5kiBKczFXwP01BovqLkK7GE9iAZQS4W6AIFpwD8oPIJkj6-tOSKeo6aGXBz9uP0JSc82hoyvW8d8/file# [following]\n",
      "--2021-12-02 13:39:26--  https://ucd1b146e210f65186cfe1c24d09.dl.dropboxusercontent.com/cd/0/inline/BbHLDiyIPwDWB1-7I1jzPvmbX8fKpVVKrDr3gr1p-V_mvlltSTYguq3OwG4sAL7t0Cr-7Mq6ey3U5kiBKczFXwP01BovqLkK7GE9iAZQS4W6AIFpwD8oPIJkj6-tOSKeo6aGXBz9uP0JSc82hoyvW8d8/file\n",
      "Resolving ucd1b146e210f65186cfe1c24d09.dl.dropboxusercontent.com (ucd1b146e210f65186cfe1c24d09.dl.dropboxusercontent.com)... 162.125.67.15, 2620:100:6025:15::a27d:450f\n",
      "Connecting to ucd1b146e210f65186cfe1c24d09.dl.dropboxusercontent.com (ucd1b146e210f65186cfe1c24d09.dl.dropboxusercontent.com)|162.125.67.15|:443... connected.\n",
      "HTTP request sent, awaiting response... 200 OK\n",
      "Length: 823374 (804K) [text/plain]\n",
      "Saving to: ‘regression_generated.csv’\n",
      "\n",
      "regression_generate 100%[===================>] 804,08K  28,8KB/s    in 26s     \n",
      "\n",
      "2021-12-02 13:40:08 (30,9 KB/s) - ‘regression_generated.csv’ saved [823374/823374]\n",
      "\n"
     ]
    }
   ],
   "source": [
    "!wget https://www.dropbox.com/s/aamg1apjhclecka/regression_generated.csv"
   ]
  },
  {
   "cell_type": "code",
   "execution_count": null,
   "metadata": {},
   "outputs": [],
   "source": []
  }
 ],
 "metadata": {
  "kernelspec": {
   "display_name": "Python 3 (ipykernel)",
   "language": "python",
   "name": "python3"
  },
  "language_info": {
   "codemirror_mode": {
    "name": "ipython",
    "version": 3
   },
   "file_extension": ".py",
   "mimetype": "text/x-python",
   "name": "python",
   "nbconvert_exporter": "python",
   "pygments_lexer": "ipython3",
   "version": "3.8.10"
  }
 },
 "nbformat": 4,
 "nbformat_minor": 2
}
